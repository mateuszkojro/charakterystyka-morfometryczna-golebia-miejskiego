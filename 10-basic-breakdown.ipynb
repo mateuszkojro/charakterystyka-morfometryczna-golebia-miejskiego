{
 "cells": [
  {
   "cell_type": "code",
   "execution_count": 1,
   "id": "fb6cd844-6b26-49b3-915f-be1b71120f7b",
   "metadata": {},
   "outputs": [],
   "source": [
    "from utils import Dataset, init_notebook\n",
    "init_notebook()\n",
    "ds = Dataset.from_sheets()"
   ]
  },
  {
   "cell_type": "code",
   "execution_count": null,
   "id": "c1be3e7e-3b31-47f7-b488-08c385e52fde",
   "metadata": {},
   "outputs": [],
   "source": [
    "ds.compare_by_gender(x=\"Długość skrzydła P\")"
   ]
  }
 ],
 "metadata": {
  "kernelspec": {
   "display_name": "Python 3 (ipykernel)",
   "language": "python",
   "name": "python3"
  },
  "language_info": {
   "codemirror_mode": {
    "name": "ipython",
    "version": 3
   },
   "file_extension": ".py",
   "mimetype": "text/x-python",
   "name": "python",
   "nbconvert_exporter": "python",
   "pygments_lexer": "ipython3",
   "version": "3.12.10"
  }
 },
 "nbformat": 4,
 "nbformat_minor": 5
}
