{
 "cells": [
  {
   "cell_type": "code",
   "execution_count": 2,
   "id": "c9f1e635-839c-4023-9ac6-fb04240ac157",
   "metadata": {},
   "outputs": [],
   "source": [
    "import scipy.stats as stats\n",
    "from utils import Dataset, init_notebook\n",
    "init_notebook()\n",
    "ds = Dataset.from_sheets()"
   ]
  },
  {
   "cell_type": "code",
   "execution_count": 3,
   "id": "28c5852d-f95a-4e1f-b45d-5ba05ae46424",
   "metadata": {},
   "outputs": [],
   "source": [
    "def welch_summary(mean1, std1, n1, mean2, std2, n2):\n",
    "    import math\n",
    "    from scipy import stats\n",
    "    # Calculate t-statistic\n",
    "    se1 = std1**2 / n1\n",
    "    se2 = std2**2 / n2\n",
    "    t_stat = (mean1 - mean2) / math.sqrt(se1 + se2)\n",
    "    \n",
    "    # Calculate degrees of freedom using Welch-Satterthwaite equation\n",
    "    df_num = (se1 + se2)**2\n",
    "    df_den = (se1**2) / (n1 - 1) + (se2**2) / (n2 - 1)\n",
    "    df = df_num / df_den\n",
    "    \n",
    "    # Calculate two-tailed p-value\n",
    "    p_value = 2 * stats.t.sf(abs(t_stat), df)\n",
    "    \n",
    "    # Output results\n",
    "    print(f\"t-statistic: {t_stat:.4f}\")\n",
    "    print(f\"Degrees of freedom: {df:.2f}\")\n",
    "    print(f\"Two-tailed p-value: {p_value:.4f}\")\n"
   ]
  },
  {
   "cell_type": "code",
   "execution_count": 11,
   "id": "aad45c94-7f58-4f6e-ab16-ec43105f8c4d",
   "metadata": {},
   "outputs": [
    {
     "name": "stdout",
     "output_type": "stream",
     "text": [
      "# Casanova 2015, Body len\n",
      "t-statistic: 10.1724\n",
      "Degrees of freedom: 48.55\n",
      "Two-tailed p-value: 0.0000\n",
      "# Bhowmik 2014, Body len\n",
      "t-statistic: 8.9522\n",
      "Degrees of freedom: 46.82\n",
      "Two-tailed p-value: 0.0000\n"
     ]
    }
   ],
   "source": [
    "l = ds.df[\"Długość ciała (cm)\"]\n",
    "\n",
    "print(\"# Casanova 2015, Body len\")\n",
    "welch_summary(l.mean(), l.std(), len(l), 33.03, 1.855, 42)\n",
    "\n",
    "print(\"# Bhowmik 2014, Body len\")\n",
    "welch_summary(l.mean(), l.std(), len(l), 33.28,1.8, 30)\n"
   ]
  },
  {
   "cell_type": "code",
   "execution_count": 12,
   "id": "efd449d1-84e3-48e6-a537-e9a3beff5d65",
   "metadata": {},
   "outputs": [
    {
     "name": "stdout",
     "output_type": "stream",
     "text": [
      "t-statistic: 0.5736\n",
      "Degrees of freedom: 63.74\n",
      "Two-tailed p-value: 0.5682\n"
     ]
    }
   ],
   "source": [
    "welch_summary(33.28, 1.8, 30, 33.03, 1.855, 42)\n"
   ]
  },
  {
   "cell_type": "code",
   "execution_count": null,
   "id": "7aaa7ce7-0643-4c68-8b46-2897843b1f1e",
   "metadata": {},
   "outputs": [],
   "source": []
  }
 ],
 "metadata": {
  "kernelspec": {
   "display_name": "Python 3 (ipykernel)",
   "language": "python",
   "name": "python3"
  },
  "language_info": {
   "codemirror_mode": {
    "name": "ipython",
    "version": 3
   },
   "file_extension": ".py",
   "mimetype": "text/x-python",
   "name": "python",
   "nbconvert_exporter": "python",
   "pygments_lexer": "ipython3",
   "version": "3.12.10"
  }
 },
 "nbformat": 4,
 "nbformat_minor": 5
}
