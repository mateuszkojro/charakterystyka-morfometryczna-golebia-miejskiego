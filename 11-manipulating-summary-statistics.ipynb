{
 "cells": [
  {
   "cell_type": "code",
   "execution_count": 17,
   "id": "c9f1e635-839c-4023-9ac6-fb04240ac157",
   "metadata": {},
   "outputs": [],
   "source": [
    "from utils import Dataset, init_notebook\n",
    "import pandas as pd\n",
    "init_notebook()\n",
    "ds = Dataset.from_sheets()"
   ]
  },
  {
   "cell_type": "code",
   "execution_count": 18,
   "id": "28c5852d-f95a-4e1f-b45d-5ba05ae46424",
   "metadata": {},
   "outputs": [],
   "source": [
    "def welch_summary(mean1, std1, n1, mean2, std2, n2):\n",
    "    import math\n",
    "    from scipy import stats\n",
    "    # Calculate t-statistic\n",
    "    se1 = std1**2 / n1\n",
    "    se2 = std2**2 / n2\n",
    "    t_stat = (mean1 - mean2) / math.sqrt(se1 + se2)\n",
    "    \n",
    "    # Calculate degrees of freedom using Welch-Satterthwaite equation\n",
    "    df_num = (se1 + se2)**2\n",
    "    df_den = (se1**2) / (n1 - 1) + (se2**2) / (n2 - 1)\n",
    "    df = df_num / df_den\n",
    "    \n",
    "    # Calculate two-tailed p-value\n",
    "    p_value = 2 * stats.t.sf(abs(t_stat), df)\n",
    "    \n",
    "    # Output results\n",
    "    print(f\"t-statistic: {t_stat:.4f}\")\n",
    "    print(f\"Degrees of freedom: {df:.2f}\")\n",
    "    print(f\"Two-tailed p-value: {p_value:.4f}\")\n",
    "\n",
    "def mean_and_std_from_subsamples(n1, x1, s1, n2, x2, s2):\n",
    "    N = n1 + n2\n",
    "    # Combined mean\n",
    "    x_bar = (n1 * x1 + n2 * x2) / N\n",
    "\n",
    "    # Pooled variance with Bessel's correction\n",
    "    var = (\n",
    "        (n1 - 1) * s1**2\n",
    "        + (n2 - 1) * s2**2\n",
    "        + (n1 * n2 / N) * (x1 - x2)**2\n",
    "    ) / (N - 1)\n",
    "\n",
    "    return x_bar, var**0.5\n",
    "\n",
    "def combined_sample_stats(groups):\n",
    "    # groups = list of tuples: (n, mean, std)\n",
    "    total_n = sum(n for n, _, _ in groups)\n",
    "    mean = sum(n * x for n, x, _ in groups) / total_n\n",
    "\n",
    "    within = sum((n - 1) * s**2 for n, _, s in groups)\n",
    "    between = sum(n * (x - mean)**2 for n, x, _ in groups)\n",
    "\n",
    "    var = (within + between) / (total_n - 1)\n",
    "    return mean, var**0.5\n"
   ]
  },
  {
   "cell_type": "code",
   "execution_count": 11,
   "id": "aad45c94-7f58-4f6e-ab16-ec43105f8c4d",
   "metadata": {},
   "outputs": [
    {
     "name": "stdout",
     "output_type": "stream",
     "text": [
      "# Casanova 2015, Body len\n",
      "t-statistic: 10.1724\n",
      "Degrees of freedom: 48.55\n",
      "Two-tailed p-value: 0.0000\n",
      "# Bhowmik 2014, Body len\n",
      "t-statistic: 8.9522\n",
      "Degrees of freedom: 46.82\n",
      "Two-tailed p-value: 0.0000\n"
     ]
    }
   ],
   "source": [
    "l = ds.df[\"Długość ciała (cm)\"]\n",
    "\n",
    "print(\"# Casanova 2015, Body len\")\n",
    "welch_summary(l.mean(), l.std(), len(l), 33.03, 1.855, 42)\n",
    "\n",
    "print(\"# Bhowmik 2014, Body len\")\n",
    "welch_summary(l.mean(), l.std(), len(l), 33.28,1.8, 30)\n"
   ]
  },
  {
   "cell_type": "code",
   "execution_count": 11,
   "id": "efd449d1-84e3-48e6-a537-e9a3beff5d65",
   "metadata": {},
   "outputs": [
    {
     "name": "stdout",
     "output_type": "stream",
     "text": [
      "Hetmanski 2011, Weigth (381.3999999999999, 29.439353456128988)\n",
      "Hetmanski 2011, Head len (54.85, 1.2300320009675576)\n",
      "Hetmanski 2011, Wing len (23.150000000000002, 0.7089098613289011)\n"
     ]
    }
   ],
   "source": [
    "print(\"Hetmanski 2011, Weigth\", mean_and_std_from_subsamples(n1=24, n2=24, x1=389.9, x2=372.9, s1=29.3, s2=27.6))\n",
    "print(\"Hetmanski 2011, Head len\", mean_and_std_from_subsamples(n1=24, n2=24, x1=55.5, x2=54.2, s1=1.0, s2=1.1))\n",
    "print(\"Hetmanski 2011, Wing len\", mean_and_std_from_subsamples(n1=24, n2=24, x1=23.3, x2=23.0, s1=0.7, s2=0.7))"
   ]
  },
  {
   "cell_type": "code",
   "execution_count": 39,
   "id": "7aaa7ce7-0643-4c68-8b46-2897843b1f1e",
   "metadata": {},
   "outputs": [
    {
     "name": "stdout",
     "output_type": "stream",
     "text": [
      "Hetmanski 2008, Weigth (388.55855855855856, 34.65037968693579)\n"
     ]
    }
   ],
   "source": [
    "groups = [\n",
    "    (20, 372, 22), # num samples, average, std dev\n",
    "    (19, 385, 28),\n",
    "    (19, 372, 43),\n",
    "    (22, 403, 34),\n",
    "    (15, 407, 32),\n",
    "    (16, 396, 32)\n",
    "]\n",
    "print(\"Hetmanski 2008, Weigth\", combined_sample_stats(groups))"
   ]
  }
 ],
 "metadata": {
  "kernelspec": {
   "display_name": "venv",
   "language": "python",
   "name": "python3"
  },
  "language_info": {
   "codemirror_mode": {
    "name": "ipython",
    "version": 3
   },
   "file_extension": ".py",
   "mimetype": "text/x-python",
   "name": "python",
   "nbconvert_exporter": "python",
   "pygments_lexer": "ipython3",
   "version": "3.13.3"
  }
 },
 "nbformat": 4,
 "nbformat_minor": 5
}
